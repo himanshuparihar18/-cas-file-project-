{
 "cells": [
  {
   "cell_type": "code",
   "execution_count": 1,
   "id": "1d14df96",
   "metadata": {},
   "outputs": [
    {
     "name": "stdout",
     "output_type": "stream",
     "text": [
      "Enter the plaintext:rahul \n",
      "Enter the key:3\n",
      "The ciphertext is: udkxo \n"
     ]
    }
   ],
   "source": [
    "def caesar_encryption(plaintext,key):\n",
    "  encryption_str = ''\n",
    "  for i in plaintext:\n",
    "    if i.isupper():\n",
    "      temp = 65 + ((ord(i) - 65 + key) % 26) \n",
    "      encryption_str = encryption_str + chr(temp)                              \n",
    "    elif i.islower():\n",
    "      temp = 97 + ((ord(i) - 97 + key) % 26)\n",
    "      encryption_str = encryption_str + chr(temp)\n",
    "    else:\n",
    "      encryption_str = encryption_str + i  \n",
    " \n",
    "  print(\"The ciphertext is:\",encryption_str)\n",
    " \n",
    "plaintext = input(\"Enter the plaintext:\")\n",
    "key = int(input(\"Enter the key:\"))\n",
    "caesar_encryption(plaintext,key)"
   ]
  },
  {
   "cell_type": "code",
   "execution_count": null,
   "id": "95e64b0e",
   "metadata": {},
   "outputs": [],
   "source": []
  }
 ],
 "metadata": {
  "kernelspec": {
   "display_name": "Python 3 (ipykernel)",
   "language": "python",
   "name": "python3"
  },
  "language_info": {
   "codemirror_mode": {
    "name": "ipython",
    "version": 3
   },
   "file_extension": ".py",
   "mimetype": "text/x-python",
   "name": "python",
   "nbconvert_exporter": "python",
   "pygments_lexer": "ipython3",
   "version": "3.10.1"
  }
 },
 "nbformat": 4,
 "nbformat_minor": 5
}
